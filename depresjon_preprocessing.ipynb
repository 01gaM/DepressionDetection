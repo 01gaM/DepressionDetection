{
  "nbformat": 4,
  "nbformat_minor": 0,
  "metadata": {
    "colab": {
      "name": "depresjon_preprocessing.ipynb",
      "provenance": [],
      "collapsed_sections": []
    },
    "kernelspec": {
      "name": "python3",
      "display_name": "Python 3"
    }
  },
  "cells": [
    {
      "cell_type": "code",
      "metadata": {
        "id": "ZNh4uA64gm2i",
        "colab_type": "code",
        "colab": {}
      },
      "source": [
        "import pandas as pd\n",
        "import seaborn as sns\n",
        "import matplotlib.pyplot as plt\n",
        "import numpy as np\n",
        "import csv\n",
        "import os\n",
        "from datetime import datetime\n",
        "TS_LENGTH = 2000\n",
        "\n"
      ],
      "execution_count": 0,
      "outputs": []
    },
    {
      "cell_type": "code",
      "metadata": {
        "id": "WRbWXKEEgw8C",
        "colab_type": "code",
        "outputId": "bfcee4c2-0682-4e66-db2c-10acd04282a0",
        "colab": {
          "base_uri": "https://localhost:8080/",
          "height": 34
        }
      },
      "source": [
        "#подключение к файлам google drive\n",
        "from google.colab import drive\n",
        "drive.mount('/content/drive')"
      ],
      "execution_count": 0,
      "outputs": [
        {
          "output_type": "stream",
          "text": [
            "Drive already mounted at /content/drive; to attempt to forcibly remount, call drive.mount(\"/content/drive\", force_remount=True).\n"
          ],
          "name": "stdout"
        }
      ]
    },
    {
      "cell_type": "code",
      "metadata": {
        "id": "Wova-yZogzJ5",
        "colab_type": "code",
        "colab": {}
      },
      "source": [
        "data_root_path = 'drive/My Drive/3 курс/data' #путь к датасету\n",
        "root = 'drive/My Drive/3 курс'"
      ],
      "execution_count": 0,
      "outputs": []
    },
    {
      "cell_type": "code",
      "metadata": {
        "id": "WlXdrFVQg1Xe",
        "colab_type": "code",
        "colab": {}
      },
      "source": [
        "scores = pd.read_csv(data_root_path + '/scores.csv')"
      ],
      "execution_count": 0,
      "outputs": []
    },
    {
      "cell_type": "code",
      "metadata": {
        "id": "-8Qvl2FGg-7i",
        "colab_type": "code",
        "colab": {}
      },
      "source": [
        "condition_path = data_root_path + '/condition/condition_{}.csv' \n",
        "control_path = data_root_path + '/control/control_{}.csv'    \n",
        "\n",
        "condition_raw = [\n",
        "    np.array(pd.read_csv(condition_path.format(x)))\n",
        "    for x in range(1, 24) #Общий массив всех пациентов с активностью каждого человека.\n",
        "]\n",
        "\n",
        "\n",
        "control_raw = [\n",
        "    np.array(pd.read_csv(control_path.format(x)))\n",
        "    for x in range(1, 33) #Общий массив всех здоровых людей с активностью каждого человека. \n",
        "]"
      ],
      "execution_count": 0,
      "outputs": []
    },
    {
      "cell_type": "code",
      "metadata": {
        "id": "ATstCO8jic-e",
        "colab_type": "code",
        "outputId": "018ab7b2-792d-48fc-86e7-92163c0f5f4a",
        "colab": {
          "base_uri": "https://localhost:8080/",
          "height": 204
        }
      },
      "source": [
        "#сгенерируем таблицы содержащие только время и активность для всех control\n",
        "\n",
        "for i in range(len(control_raw)): #проходимся по всем файлам\n",
        "    curr_file = control_raw[i]\n",
        "    with open(data_root_path + '/control_time_activity/control_{}.csv'.format(i+1), 'w') as csvfile:\n",
        "        filewriter = csv.writer(csvfile, delimiter=',',\n",
        "                                quotechar='|', quoting=csv.QUOTE_MINIMAL)\n",
        "        filewriter.writerow(['time', 'activity'])\n",
        "        \n",
        "        for j in range(len(curr_file)): #количество строк в файле\n",
        "          curr_str = curr_file[j]\n",
        "          curr_time = datetime.strptime(curr_str[0], \"%Y-%m-%d %H:%M:%S\").time().hour\n",
        "          filewriter.writerow([curr_time, curr_str[2]])\n",
        "\n",
        "control_time_activity = pd.read_csv(data_root_path + '/control_time_activity/control_1.csv')\n",
        "control_time_activity.head()"
      ],
      "execution_count": 0,
      "outputs": [
        {
          "output_type": "execute_result",
          "data": {
            "text/html": [
              "<div>\n",
              "<style scoped>\n",
              "    .dataframe tbody tr th:only-of-type {\n",
              "        vertical-align: middle;\n",
              "    }\n",
              "\n",
              "    .dataframe tbody tr th {\n",
              "        vertical-align: top;\n",
              "    }\n",
              "\n",
              "    .dataframe thead th {\n",
              "        text-align: right;\n",
              "    }\n",
              "</style>\n",
              "<table border=\"1\" class=\"dataframe\">\n",
              "  <thead>\n",
              "    <tr style=\"text-align: right;\">\n",
              "      <th></th>\n",
              "      <th>time</th>\n",
              "      <th>activity</th>\n",
              "    </tr>\n",
              "  </thead>\n",
              "  <tbody>\n",
              "    <tr>\n",
              "      <th>0</th>\n",
              "      <td>15</td>\n",
              "      <td>60</td>\n",
              "    </tr>\n",
              "    <tr>\n",
              "      <th>1</th>\n",
              "      <td>15</td>\n",
              "      <td>0</td>\n",
              "    </tr>\n",
              "    <tr>\n",
              "      <th>2</th>\n",
              "      <td>15</td>\n",
              "      <td>264</td>\n",
              "    </tr>\n",
              "    <tr>\n",
              "      <th>3</th>\n",
              "      <td>15</td>\n",
              "      <td>662</td>\n",
              "    </tr>\n",
              "    <tr>\n",
              "      <th>4</th>\n",
              "      <td>15</td>\n",
              "      <td>293</td>\n",
              "    </tr>\n",
              "  </tbody>\n",
              "</table>\n",
              "</div>"
            ],
            "text/plain": [
              "   time  activity\n",
              "0    15        60\n",
              "1    15         0\n",
              "2    15       264\n",
              "3    15       662\n",
              "4    15       293"
            ]
          },
          "metadata": {
            "tags": []
          },
          "execution_count": 38
        }
      ]
    },
    {
      "cell_type": "code",
      "metadata": {
        "id": "u6rWE9eujmUN",
        "colab_type": "code",
        "outputId": "2821cf52-47b1-4121-cb33-991ad49e2415",
        "colab": {
          "base_uri": "https://localhost:8080/",
          "height": 204
        }
      },
      "source": [
        "#сгенерируем таблицы содержащие только время и активность для всех condition\n",
        "\n",
        "for i in range(len(condition_raw)): #проходимся по всем файлам\n",
        "    curr_file = condition_raw[i]\n",
        "    with open(data_root_path + '/condition_time_activity/condition_{}.csv'.format(i+1), 'w') as csvfile:\n",
        "        filewriter = csv.writer(csvfile, delimiter=',',\n",
        "                                quotechar='|', quoting=csv.QUOTE_MINIMAL)\n",
        "        filewriter.writerow(['time', 'activity'])\n",
        "        \n",
        "        for j in range(len(curr_file)): #количество строк в файле\n",
        "          curr_str = curr_file[j]\n",
        "          curr_time = datetime.strptime(curr_str[0], \"%Y-%m-%d %H:%M:%S\").time().hour\n",
        "          filewriter.writerow([curr_time, curr_str[2]])\n",
        "\n",
        "condition_time_activity = pd.read_csv(data_root_path + '/condition_time_activity/condition_1.csv')\n",
        "condition_time_activity.head()"
      ],
      "execution_count": 0,
      "outputs": [
        {
          "output_type": "execute_result",
          "data": {
            "text/html": [
              "<div>\n",
              "<style scoped>\n",
              "    .dataframe tbody tr th:only-of-type {\n",
              "        vertical-align: middle;\n",
              "    }\n",
              "\n",
              "    .dataframe tbody tr th {\n",
              "        vertical-align: top;\n",
              "    }\n",
              "\n",
              "    .dataframe thead th {\n",
              "        text-align: right;\n",
              "    }\n",
              "</style>\n",
              "<table border=\"1\" class=\"dataframe\">\n",
              "  <thead>\n",
              "    <tr style=\"text-align: right;\">\n",
              "      <th></th>\n",
              "      <th>time</th>\n",
              "      <th>activity</th>\n",
              "    </tr>\n",
              "  </thead>\n",
              "  <tbody>\n",
              "    <tr>\n",
              "      <th>0</th>\n",
              "      <td>12</td>\n",
              "      <td>0</td>\n",
              "    </tr>\n",
              "    <tr>\n",
              "      <th>1</th>\n",
              "      <td>12</td>\n",
              "      <td>143</td>\n",
              "    </tr>\n",
              "    <tr>\n",
              "      <th>2</th>\n",
              "      <td>12</td>\n",
              "      <td>0</td>\n",
              "    </tr>\n",
              "    <tr>\n",
              "      <th>3</th>\n",
              "      <td>12</td>\n",
              "      <td>20</td>\n",
              "    </tr>\n",
              "    <tr>\n",
              "      <th>4</th>\n",
              "      <td>12</td>\n",
              "      <td>166</td>\n",
              "    </tr>\n",
              "  </tbody>\n",
              "</table>\n",
              "</div>"
            ],
            "text/plain": [
              "   time  activity\n",
              "0    12         0\n",
              "1    12       143\n",
              "2    12         0\n",
              "3    12        20\n",
              "4    12       166"
            ]
          },
          "metadata": {
            "tags": []
          },
          "execution_count": 39
        }
      ]
    },
    {
      "cell_type": "code",
      "metadata": {
        "id": "VJT10bNpUu7Z",
        "colab_type": "code",
        "colab": {}
      },
      "source": [
        "condition = np.load(\n",
        "    os.path.join(root, \"condition_{}_emb.npy\").format(TS_LENGTH))\n",
        "control = np.load(os.path.join(root, \"control_{}_emb.npy\").format(TS_LENGTH))\n",
        "X = np.concatenate((condition, control), axis=0)\n",
        "y = np.array([0] * len(condition) + [1] * len(control))"
      ],
      "execution_count": 0,
      "outputs": []
    },
    {
      "cell_type": "code",
      "metadata": {
        "id": "SDtT6PA3VVZt",
        "colab_type": "code",
        "colab": {}
      },
      "source": [
        ""
      ],
      "execution_count": 0,
      "outputs": []
    }
  ]
}