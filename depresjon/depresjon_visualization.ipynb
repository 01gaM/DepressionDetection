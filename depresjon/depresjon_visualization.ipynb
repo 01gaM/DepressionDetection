{
  "nbformat": 4,
  "nbformat_minor": 0,
  "metadata": {
    "colab": {
      "name": "depresjon.ipynb",
      "provenance": [],
      "collapsed_sections": []
    },
    "kernelspec": {
      "name": "python3",
      "display_name": "Python 3"
    }
  },
  "cells": [
    {
      "cell_type": "code",
      "metadata": {
        "id": "JiXaTN3Yl8Zu",
        "colab_type": "code",
        "colab": {}
      },
      "source": [
        "import pandas as pd\n",
        "import seaborn as sns\n",
        "import matplotlib.pyplot as plt\n",
        "import numpy as np\n",
        "import csv\n",
        "import math\n",
        "from datetime import datetime\n",
        "from sklearn.model_selection import train_test_split\n",
        "from sklearn.metrics import accuracy_score, precision_score, recall_score\n",
        "from keras.utils import to_categorical\n",
        "import os\n",
        "import torch\n",
        "import torch.nn as nn\n",
        "import torch.nn.functional as F\n",
        "import torch.optim as optim\n",
        "import torch.utils.data\n",
        "from torch.utils.data.dataset import Dataset\n",
        "from torch.autograd import Variable\n",
        "from sklearn.metrics import confusion_matrix\n",
        "from mlxtend.plotting import plot_confusion_matrix"
      ],
      "execution_count": 0,
      "outputs": []
    },
    {
      "cell_type": "code",
      "metadata": {
        "id": "e1m4KOramfXB",
        "colab_type": "code",
        "outputId": "6f16bba8-c17b-4de5-c30d-19091d8cfdfb",
        "colab": {
          "base_uri": "https://localhost:8080/",
          "height": 122
        }
      },
      "source": [
        "#подключение к файлам google drive\n",
        "from google.colab import drive\n",
        "drive.mount('/content/drive')"
      ],
      "execution_count": 0,
      "outputs": [
        {
          "output_type": "stream",
          "text": [
            "Go to this URL in a browser: https://accounts.google.com/o/oauth2/auth?client_id=947318989803-6bn6qk8qdgf4n4g3pfee6491hc0brc4i.apps.googleusercontent.com&redirect_uri=urn%3aietf%3awg%3aoauth%3a2.0%3aoob&response_type=code&scope=email%20https%3a%2f%2fwww.googleapis.com%2fauth%2fdocs.test%20https%3a%2f%2fwww.googleapis.com%2fauth%2fdrive%20https%3a%2f%2fwww.googleapis.com%2fauth%2fdrive.photos.readonly%20https%3a%2f%2fwww.googleapis.com%2fauth%2fpeopleapi.readonly\n",
            "\n",
            "Enter your authorization code:\n",
            "··········\n",
            "Mounted at /content/drive\n"
          ],
          "name": "stdout"
        }
      ]
    },
    {
      "cell_type": "code",
      "metadata": {
        "id": "L7p_kb5SmaVp",
        "colab_type": "code",
        "colab": {}
      },
      "source": [
        "#data_root_path = 'drive/My Drive/Depression Project/data'  #change dir to your project folder --- директория Миши о_О\n",
        "data_root_path = 'drive/My Drive/3 курс/data' #директория Оле4ки"
      ],
      "execution_count": 0,
      "outputs": []
    },
    {
      "cell_type": "code",
      "metadata": {
        "id": "BDvmDOA0nZM9",
        "colab_type": "code",
        "colab": {}
      },
      "source": [
        "scores = pd.read_csv(data_root_path + '/scores.csv')"
      ],
      "execution_count": 0,
      "outputs": []
    },
    {
      "cell_type": "code",
      "metadata": {
        "id": "SYaI2Ywvnt7p",
        "colab_type": "code",
        "outputId": "72980932-4e79-4ee4-cadb-81e662d4abf0",
        "colab": {
          "base_uri": "https://localhost:8080/",
          "height": 204
        }
      },
      "source": [
        "scores.head()"
      ],
      "execution_count": 0,
      "outputs": [
        {
          "output_type": "execute_result",
          "data": {
            "text/html": [
              "<div>\n",
              "<style scoped>\n",
              "    .dataframe tbody tr th:only-of-type {\n",
              "        vertical-align: middle;\n",
              "    }\n",
              "\n",
              "    .dataframe tbody tr th {\n",
              "        vertical-align: top;\n",
              "    }\n",
              "\n",
              "    .dataframe thead th {\n",
              "        text-align: right;\n",
              "    }\n",
              "</style>\n",
              "<table border=\"1\" class=\"dataframe\">\n",
              "  <thead>\n",
              "    <tr style=\"text-align: right;\">\n",
              "      <th></th>\n",
              "      <th>number</th>\n",
              "      <th>days</th>\n",
              "      <th>gender</th>\n",
              "      <th>age</th>\n",
              "      <th>afftype</th>\n",
              "      <th>melanch</th>\n",
              "      <th>inpatient</th>\n",
              "      <th>edu</th>\n",
              "      <th>marriage</th>\n",
              "      <th>work</th>\n",
              "      <th>madrs1</th>\n",
              "      <th>madrs2</th>\n",
              "    </tr>\n",
              "  </thead>\n",
              "  <tbody>\n",
              "    <tr>\n",
              "      <th>0</th>\n",
              "      <td>condition_1</td>\n",
              "      <td>11</td>\n",
              "      <td>2</td>\n",
              "      <td>35-39</td>\n",
              "      <td>2.0</td>\n",
              "      <td>2.0</td>\n",
              "      <td>2.0</td>\n",
              "      <td>6-10</td>\n",
              "      <td>1.0</td>\n",
              "      <td>2.0</td>\n",
              "      <td>19.0</td>\n",
              "      <td>19.0</td>\n",
              "    </tr>\n",
              "    <tr>\n",
              "      <th>1</th>\n",
              "      <td>condition_2</td>\n",
              "      <td>18</td>\n",
              "      <td>2</td>\n",
              "      <td>40-44</td>\n",
              "      <td>1.0</td>\n",
              "      <td>2.0</td>\n",
              "      <td>2.0</td>\n",
              "      <td>6-10</td>\n",
              "      <td>2.0</td>\n",
              "      <td>2.0</td>\n",
              "      <td>24.0</td>\n",
              "      <td>11.0</td>\n",
              "    </tr>\n",
              "    <tr>\n",
              "      <th>2</th>\n",
              "      <td>condition_3</td>\n",
              "      <td>13</td>\n",
              "      <td>1</td>\n",
              "      <td>45-49</td>\n",
              "      <td>2.0</td>\n",
              "      <td>2.0</td>\n",
              "      <td>2.0</td>\n",
              "      <td>6-10</td>\n",
              "      <td>2.0</td>\n",
              "      <td>2.0</td>\n",
              "      <td>24.0</td>\n",
              "      <td>25.0</td>\n",
              "    </tr>\n",
              "    <tr>\n",
              "      <th>3</th>\n",
              "      <td>condition_4</td>\n",
              "      <td>13</td>\n",
              "      <td>2</td>\n",
              "      <td>25-29</td>\n",
              "      <td>2.0</td>\n",
              "      <td>2.0</td>\n",
              "      <td>2.0</td>\n",
              "      <td>11-15</td>\n",
              "      <td>1.0</td>\n",
              "      <td>1.0</td>\n",
              "      <td>20.0</td>\n",
              "      <td>16.0</td>\n",
              "    </tr>\n",
              "    <tr>\n",
              "      <th>4</th>\n",
              "      <td>condition_5</td>\n",
              "      <td>13</td>\n",
              "      <td>2</td>\n",
              "      <td>50-54</td>\n",
              "      <td>2.0</td>\n",
              "      <td>2.0</td>\n",
              "      <td>2.0</td>\n",
              "      <td>11-15</td>\n",
              "      <td>2.0</td>\n",
              "      <td>2.0</td>\n",
              "      <td>26.0</td>\n",
              "      <td>26.0</td>\n",
              "    </tr>\n",
              "  </tbody>\n",
              "</table>\n",
              "</div>"
            ],
            "text/plain": [
              "        number  days  gender    age  ...  marriage  work  madrs1 madrs2\n",
              "0  condition_1    11       2  35-39  ...       1.0   2.0    19.0   19.0\n",
              "1  condition_2    18       2  40-44  ...       2.0   2.0    24.0   11.0\n",
              "2  condition_3    13       1  45-49  ...       2.0   2.0    24.0   25.0\n",
              "3  condition_4    13       2  25-29  ...       1.0   1.0    20.0   16.0\n",
              "4  condition_5    13       2  50-54  ...       2.0   2.0    26.0   26.0\n",
              "\n",
              "[5 rows x 12 columns]"
            ]
          },
          "metadata": {
            "tags": []
          },
          "execution_count": 5
        }
      ]
    },
    {
      "cell_type": "code",
      "metadata": {
        "id": "t2HhCAN5n6d5",
        "colab_type": "code",
        "outputId": "c905cd1c-6efa-4c24-c2cd-84b82d46d00c",
        "colab": {
          "base_uri": "https://localhost:8080/",
          "height": 340
        }
      },
      "source": [
        "scores.info()"
      ],
      "execution_count": 0,
      "outputs": [
        {
          "output_type": "stream",
          "text": [
            "<class 'pandas.core.frame.DataFrame'>\n",
            "RangeIndex: 55 entries, 0 to 54\n",
            "Data columns (total 12 columns):\n",
            " #   Column     Non-Null Count  Dtype  \n",
            "---  ------     --------------  -----  \n",
            " 0   number     55 non-null     object \n",
            " 1   days       55 non-null     int64  \n",
            " 2   gender     55 non-null     int64  \n",
            " 3   age        55 non-null     object \n",
            " 4   afftype    23 non-null     float64\n",
            " 5   melanch    20 non-null     float64\n",
            " 6   inpatient  23 non-null     float64\n",
            " 7   edu        53 non-null     object \n",
            " 8   marriage   23 non-null     float64\n",
            " 9   work       23 non-null     float64\n",
            " 10  madrs1     23 non-null     float64\n",
            " 11  madrs2     23 non-null     float64\n",
            "dtypes: float64(7), int64(2), object(3)\n",
            "memory usage: 5.3+ KB\n"
          ],
          "name": "stdout"
        }
      ]
    },
    {
      "cell_type": "code",
      "metadata": {
        "id": "OQsKIRy4oElP",
        "colab_type": "code",
        "outputId": "97048390-85ba-4fe9-9f66-6cb70966d004",
        "colab": {
          "base_uri": "https://localhost:8080/",
          "height": 297
        }
      },
      "source": [
        "scores.describe()"
      ],
      "execution_count": 0,
      "outputs": [
        {
          "output_type": "execute_result",
          "data": {
            "text/html": [
              "<div>\n",
              "<style scoped>\n",
              "    .dataframe tbody tr th:only-of-type {\n",
              "        vertical-align: middle;\n",
              "    }\n",
              "\n",
              "    .dataframe tbody tr th {\n",
              "        vertical-align: top;\n",
              "    }\n",
              "\n",
              "    .dataframe thead th {\n",
              "        text-align: right;\n",
              "    }\n",
              "</style>\n",
              "<table border=\"1\" class=\"dataframe\">\n",
              "  <thead>\n",
              "    <tr style=\"text-align: right;\">\n",
              "      <th></th>\n",
              "      <th>days</th>\n",
              "      <th>gender</th>\n",
              "      <th>afftype</th>\n",
              "      <th>melanch</th>\n",
              "      <th>inpatient</th>\n",
              "      <th>marriage</th>\n",
              "      <th>work</th>\n",
              "      <th>madrs1</th>\n",
              "      <th>madrs2</th>\n",
              "    </tr>\n",
              "  </thead>\n",
              "  <tbody>\n",
              "    <tr>\n",
              "      <th>count</th>\n",
              "      <td>55.000000</td>\n",
              "      <td>55.000000</td>\n",
              "      <td>23.000000</td>\n",
              "      <td>20.000000</td>\n",
              "      <td>23.000000</td>\n",
              "      <td>23.000000</td>\n",
              "      <td>23.000000</td>\n",
              "      <td>23.000000</td>\n",
              "      <td>23.000000</td>\n",
              "    </tr>\n",
              "    <tr>\n",
              "      <th>mean</th>\n",
              "      <td>12.600000</td>\n",
              "      <td>1.454545</td>\n",
              "      <td>1.739130</td>\n",
              "      <td>1.950000</td>\n",
              "      <td>1.782609</td>\n",
              "      <td>1.521739</td>\n",
              "      <td>1.869565</td>\n",
              "      <td>22.739130</td>\n",
              "      <td>20.000000</td>\n",
              "    </tr>\n",
              "    <tr>\n",
              "      <th>std</th>\n",
              "      <td>2.491467</td>\n",
              "      <td>0.502519</td>\n",
              "      <td>0.540824</td>\n",
              "      <td>0.223607</td>\n",
              "      <td>0.421741</td>\n",
              "      <td>0.510754</td>\n",
              "      <td>0.344350</td>\n",
              "      <td>4.797892</td>\n",
              "      <td>4.729021</td>\n",
              "    </tr>\n",
              "    <tr>\n",
              "      <th>min</th>\n",
              "      <td>5.000000</td>\n",
              "      <td>1.000000</td>\n",
              "      <td>1.000000</td>\n",
              "      <td>1.000000</td>\n",
              "      <td>1.000000</td>\n",
              "      <td>1.000000</td>\n",
              "      <td>1.000000</td>\n",
              "      <td>13.000000</td>\n",
              "      <td>11.000000</td>\n",
              "    </tr>\n",
              "    <tr>\n",
              "      <th>25%</th>\n",
              "      <td>13.000000</td>\n",
              "      <td>1.000000</td>\n",
              "      <td>1.000000</td>\n",
              "      <td>2.000000</td>\n",
              "      <td>2.000000</td>\n",
              "      <td>1.000000</td>\n",
              "      <td>2.000000</td>\n",
              "      <td>18.500000</td>\n",
              "      <td>16.000000</td>\n",
              "    </tr>\n",
              "    <tr>\n",
              "      <th>50%</th>\n",
              "      <td>13.000000</td>\n",
              "      <td>1.000000</td>\n",
              "      <td>2.000000</td>\n",
              "      <td>2.000000</td>\n",
              "      <td>2.000000</td>\n",
              "      <td>2.000000</td>\n",
              "      <td>2.000000</td>\n",
              "      <td>24.000000</td>\n",
              "      <td>21.000000</td>\n",
              "    </tr>\n",
              "    <tr>\n",
              "      <th>75%</th>\n",
              "      <td>13.000000</td>\n",
              "      <td>2.000000</td>\n",
              "      <td>2.000000</td>\n",
              "      <td>2.000000</td>\n",
              "      <td>2.000000</td>\n",
              "      <td>2.000000</td>\n",
              "      <td>2.000000</td>\n",
              "      <td>26.000000</td>\n",
              "      <td>24.500000</td>\n",
              "    </tr>\n",
              "    <tr>\n",
              "      <th>max</th>\n",
              "      <td>20.000000</td>\n",
              "      <td>2.000000</td>\n",
              "      <td>3.000000</td>\n",
              "      <td>2.000000</td>\n",
              "      <td>2.000000</td>\n",
              "      <td>2.000000</td>\n",
              "      <td>2.000000</td>\n",
              "      <td>29.000000</td>\n",
              "      <td>28.000000</td>\n",
              "    </tr>\n",
              "  </tbody>\n",
              "</table>\n",
              "</div>"
            ],
            "text/plain": [
              "            days     gender    afftype  ...       work     madrs1     madrs2\n",
              "count  55.000000  55.000000  23.000000  ...  23.000000  23.000000  23.000000\n",
              "mean   12.600000   1.454545   1.739130  ...   1.869565  22.739130  20.000000\n",
              "std     2.491467   0.502519   0.540824  ...   0.344350   4.797892   4.729021\n",
              "min     5.000000   1.000000   1.000000  ...   1.000000  13.000000  11.000000\n",
              "25%    13.000000   1.000000   1.000000  ...   2.000000  18.500000  16.000000\n",
              "50%    13.000000   1.000000   2.000000  ...   2.000000  24.000000  21.000000\n",
              "75%    13.000000   2.000000   2.000000  ...   2.000000  26.000000  24.500000\n",
              "max    20.000000   2.000000   3.000000  ...   2.000000  29.000000  28.000000\n",
              "\n",
              "[8 rows x 9 columns]"
            ]
          },
          "metadata": {
            "tags": []
          },
          "execution_count": 7
        }
      ]
    },
    {
      "cell_type": "code",
      "metadata": {
        "id": "Cge7_7lOoKSu",
        "colab_type": "code",
        "outputId": "2f2a37f6-9268-4e82-be43-4a7b7a98d193",
        "colab": {
          "base_uri": "https://localhost:8080/",
          "height": 296
        }
      },
      "source": [
        "sns.set_style('whitegrid')\n",
        "sns.countplot(x='age',data=scores)\n",
        "plt.xlabel('Age')"
      ],
      "execution_count": 0,
      "outputs": [
        {
          "output_type": "execute_result",
          "data": {
            "text/plain": [
              "Text(0.5, 0, 'Age')"
            ]
          },
          "metadata": {
            "tags": []
          },
          "execution_count": 8
        },
        {
          "output_type": "display_data",
          "data": {
            "image/png": "[encoded data removed]",
            "text/plain": [
              "<Figure size 432x288 with 1 Axes>"
            ]
          },
          "metadata": {
            "tags": []
          }
        }
      ]
    },
    {
      "cell_type": "code",
      "metadata": {
        "id": "xJcCK5Ueu-wA",
        "colab_type": "code",
        "outputId": "9acc5c2c-673e-4549-be75-75caef1b9b11",
        "colab": {
          "base_uri": "https://localhost:8080/",
          "height": 296
        }
      },
      "source": [
        "sns.set_style('whitegrid')\n",
        "sns.countplot(x='gender',data=scores)\n",
        "plt.xlabel(\"Sex (1 = female, 2 = male)\")"
      ],
      "execution_count": 0,
      "outputs": [
        {
          "output_type": "execute_result",
          "data": {
            "text/plain": [
              "Text(0.5, 0, 'Sex (1 = female, 2 = male)')"
            ]
          },
          "metadata": {
            "tags": []
          },
          "execution_count": 9
        },
        {
          "output_type": "display_data",
          "data": {
            "image/png": "[encoded data removed]",
            "text/plain": [
              "<Figure size 432x288 with 1 Axes>"
            ]
          },
          "metadata": {
            "tags": []
          }
        }
      ]
    },
    {
      "cell_type": "code",
      "metadata": {
        "id": "VRW7fdNsw193",
        "colab_type": "code",
        "outputId": "99e970dc-6bae-4b70-f26f-b111da43b02b",
        "colab": {
          "base_uri": "https://localhost:8080/",
          "height": 296
        }
      },
      "source": [
        "sns.set_style('whitegrid')\n",
        "sns.countplot(x='days',data=scores)\n",
        "plt.xlabel(\"Days\")"
      ],
      "execution_count": 0,
      "outputs": [
        {
          "output_type": "execute_result",
          "data": {
            "text/plain": [
              "Text(0.5, 0, 'Days')"
            ]
          },
          "metadata": {
            "tags": []
          },
          "execution_count": 10
        },
        {
          "output_type": "display_data",
          "data": {
            "image/png": "[encoded data removed]",
            "text/plain": [
              "<Figure size 432x288 with 1 Axes>"
            ]
          },
          "metadata": {
            "tags": []
          }
        }
      ]
    },
    {
      "cell_type": "code",
      "metadata": {
        "id": "blMwC-MVzYlg",
        "colab_type": "code",
        "colab": {}
      },
      "source": [
        ""
      ],
      "execution_count": 0,
      "outputs": []
    },
    {
      "cell_type": "code",
      "metadata": {
        "id": "KI_BsoHJ_KaU",
        "colab_type": "code",
        "outputId": "ac86cba2-e612-449f-d110-7d81946a3025",
        "colab": {
          "base_uri": "https://localhost:8080/",
          "height": 204
        }
      },
      "source": [
        "scores_condition = scores[scores['number'].str.startswith('condition')]\n",
        "scores.head()"
      ],
      "execution_count": 0,
      "outputs": [
        {
          "output_type": "execute_result",
          "data": {
            "text/html": [
              "<div>\n",
              "<style scoped>\n",
              "    .dataframe tbody tr th:only-of-type {\n",
              "        vertical-align: middle;\n",
              "    }\n",
              "\n",
              "    .dataframe tbody tr th {\n",
              "        vertical-align: top;\n",
              "    }\n",
              "\n",
              "    .dataframe thead th {\n",
              "        text-align: right;\n",
              "    }\n",
              "</style>\n",
              "<table border=\"1\" class=\"dataframe\">\n",
              "  <thead>\n",
              "    <tr style=\"text-align: right;\">\n",
              "      <th></th>\n",
              "      <th>number</th>\n",
              "      <th>days</th>\n",
              "      <th>gender</th>\n",
              "      <th>age</th>\n",
              "      <th>afftype</th>\n",
              "      <th>melanch</th>\n",
              "      <th>inpatient</th>\n",
              "      <th>edu</th>\n",
              "      <th>marriage</th>\n",
              "      <th>work</th>\n",
              "      <th>madrs1</th>\n",
              "      <th>madrs2</th>\n",
              "    </tr>\n",
              "  </thead>\n",
              "  <tbody>\n",
              "    <tr>\n",
              "      <th>0</th>\n",
              "      <td>condition_1</td>\n",
              "      <td>11</td>\n",
              "      <td>2</td>\n",
              "      <td>35-39</td>\n",
              "      <td>2.0</td>\n",
              "      <td>2.0</td>\n",
              "      <td>2.0</td>\n",
              "      <td>6-10</td>\n",
              "      <td>1.0</td>\n",
              "      <td>2.0</td>\n",
              "      <td>19.0</td>\n",
              "      <td>19.0</td>\n",
              "    </tr>\n",
              "    <tr>\n",
              "      <th>1</th>\n",
              "      <td>condition_2</td>\n",
              "      <td>18</td>\n",
              "      <td>2</td>\n",
              "      <td>40-44</td>\n",
              "      <td>1.0</td>\n",
              "      <td>2.0</td>\n",
              "      <td>2.0</td>\n",
              "      <td>6-10</td>\n",
              "      <td>2.0</td>\n",
              "      <td>2.0</td>\n",
              "      <td>24.0</td>\n",
              "      <td>11.0</td>\n",
              "    </tr>\n",
              "    <tr>\n",
              "      <th>2</th>\n",
              "      <td>condition_3</td>\n",
              "      <td>13</td>\n",
              "      <td>1</td>\n",
              "      <td>45-49</td>\n",
              "      <td>2.0</td>\n",
              "      <td>2.0</td>\n",
              "      <td>2.0</td>\n",
              "      <td>6-10</td>\n",
              "      <td>2.0</td>\n",
              "      <td>2.0</td>\n",
              "      <td>24.0</td>\n",
              "      <td>25.0</td>\n",
              "    </tr>\n",
              "    <tr>\n",
              "      <th>3</th>\n",
              "      <td>condition_4</td>\n",
              "      <td>13</td>\n",
              "      <td>2</td>\n",
              "      <td>25-29</td>\n",
              "      <td>2.0</td>\n",
              "      <td>2.0</td>\n",
              "      <td>2.0</td>\n",
              "      <td>11-15</td>\n",
              "      <td>1.0</td>\n",
              "      <td>1.0</td>\n",
              "      <td>20.0</td>\n",
              "      <td>16.0</td>\n",
              "    </tr>\n",
              "    <tr>\n",
              "      <th>4</th>\n",
              "      <td>condition_5</td>\n",
              "      <td>13</td>\n",
              "      <td>2</td>\n",
              "      <td>50-54</td>\n",
              "      <td>2.0</td>\n",
              "      <td>2.0</td>\n",
              "      <td>2.0</td>\n",
              "      <td>11-15</td>\n",
              "      <td>2.0</td>\n",
              "      <td>2.0</td>\n",
              "      <td>26.0</td>\n",
              "      <td>26.0</td>\n",
              "    </tr>\n",
              "  </tbody>\n",
              "</table>\n",
              "</div>"
            ],
            "text/plain": [
              "        number  days  gender    age  ...  marriage  work  madrs1 madrs2\n",
              "0  condition_1    11       2  35-39  ...       1.0   2.0    19.0   19.0\n",
              "1  condition_2    18       2  40-44  ...       2.0   2.0    24.0   11.0\n",
              "2  condition_3    13       1  45-49  ...       2.0   2.0    24.0   25.0\n",
              "3  condition_4    13       2  25-29  ...       1.0   1.0    20.0   16.0\n",
              "4  condition_5    13       2  50-54  ...       2.0   2.0    26.0   26.0\n",
              "\n",
              "[5 rows x 12 columns]"
            ]
          },
          "metadata": {
            "tags": []
          },
          "execution_count": 11
        }
      ]
    },
    {
      "cell_type": "code",
      "metadata": {
        "id": "0rolI9BPNyNx",
        "colab_type": "code",
        "outputId": "19a5f16f-9b99-45c6-bfdc-52688e4bb25a",
        "colab": {
          "base_uri": "https://localhost:8080/",
          "height": 204
        }
      },
      "source": [
        "scores_control = scores[scores['number'].str.startswith('control')]\n",
        "scores_control.head()"
      ],
      "execution_count": 0,
      "outputs": [
        {
          "output_type": "execute_result",
          "data": {
            "text/html": [
              "<div>\n",
              "<style scoped>\n",
              "    .dataframe tbody tr th:only-of-type {\n",
              "        vertical-align: middle;\n",
              "    }\n",
              "\n",
              "    .dataframe tbody tr th {\n",
              "        vertical-align: top;\n",
              "    }\n",
              "\n",
              "    .dataframe thead th {\n",
              "        text-align: right;\n",
              "    }\n",
              "</style>\n",
              "<table border=\"1\" class=\"dataframe\">\n",
              "  <thead>\n",
              "    <tr style=\"text-align: right;\">\n",
              "      <th></th>\n",
              "      <th>number</th>\n",
              "      <th>days</th>\n",
              "      <th>gender</th>\n",
              "      <th>age</th>\n",
              "      <th>afftype</th>\n",
              "      <th>melanch</th>\n",
              "      <th>inpatient</th>\n",
              "      <th>edu</th>\n",
              "      <th>marriage</th>\n",
              "      <th>work</th>\n",
              "      <th>madrs1</th>\n",
              "      <th>madrs2</th>\n",
              "    </tr>\n",
              "  </thead>\n",
              "  <tbody>\n",
              "    <tr>\n",
              "      <th>23</th>\n",
              "      <td>control_1</td>\n",
              "      <td>8</td>\n",
              "      <td>2</td>\n",
              "      <td>25-29</td>\n",
              "      <td>NaN</td>\n",
              "      <td>NaN</td>\n",
              "      <td>NaN</td>\n",
              "      <td>NaN</td>\n",
              "      <td>NaN</td>\n",
              "      <td>NaN</td>\n",
              "      <td>NaN</td>\n",
              "      <td>NaN</td>\n",
              "    </tr>\n",
              "    <tr>\n",
              "      <th>24</th>\n",
              "      <td>control_2</td>\n",
              "      <td>20</td>\n",
              "      <td>1</td>\n",
              "      <td>30-34</td>\n",
              "      <td>NaN</td>\n",
              "      <td>NaN</td>\n",
              "      <td>NaN</td>\n",
              "      <td></td>\n",
              "      <td>NaN</td>\n",
              "      <td>NaN</td>\n",
              "      <td>NaN</td>\n",
              "      <td>NaN</td>\n",
              "    </tr>\n",
              "    <tr>\n",
              "      <th>25</th>\n",
              "      <td>control_3</td>\n",
              "      <td>12</td>\n",
              "      <td>2</td>\n",
              "      <td>30-34</td>\n",
              "      <td>NaN</td>\n",
              "      <td>NaN</td>\n",
              "      <td>NaN</td>\n",
              "      <td></td>\n",
              "      <td>NaN</td>\n",
              "      <td>NaN</td>\n",
              "      <td>NaN</td>\n",
              "      <td>NaN</td>\n",
              "    </tr>\n",
              "    <tr>\n",
              "      <th>26</th>\n",
              "      <td>control_4</td>\n",
              "      <td>13</td>\n",
              "      <td>1</td>\n",
              "      <td>25-29</td>\n",
              "      <td>NaN</td>\n",
              "      <td>NaN</td>\n",
              "      <td>NaN</td>\n",
              "      <td></td>\n",
              "      <td>NaN</td>\n",
              "      <td>NaN</td>\n",
              "      <td>NaN</td>\n",
              "      <td>NaN</td>\n",
              "    </tr>\n",
              "    <tr>\n",
              "      <th>27</th>\n",
              "      <td>control_5</td>\n",
              "      <td>13</td>\n",
              "      <td>1</td>\n",
              "      <td>30-34</td>\n",
              "      <td>NaN</td>\n",
              "      <td>NaN</td>\n",
              "      <td>NaN</td>\n",
              "      <td></td>\n",
              "      <td>NaN</td>\n",
              "      <td>NaN</td>\n",
              "      <td>NaN</td>\n",
              "      <td>NaN</td>\n",
              "    </tr>\n",
              "  </tbody>\n",
              "</table>\n",
              "</div>"
            ],
            "text/plain": [
              "       number  days  gender    age  ...  marriage  work  madrs1 madrs2\n",
              "23  control_1     8       2  25-29  ...       NaN   NaN     NaN    NaN\n",
              "24  control_2    20       1  30-34  ...       NaN   NaN     NaN    NaN\n",
              "25  control_3    12       2  30-34  ...       NaN   NaN     NaN    NaN\n",
              "26  control_4    13       1  25-29  ...       NaN   NaN     NaN    NaN\n",
              "27  control_5    13       1  30-34  ...       NaN   NaN     NaN    NaN\n",
              "\n",
              "[5 rows x 12 columns]"
            ]
          },
          "metadata": {
            "tags": []
          },
          "execution_count": 12
        }
      ]
    },
    {
      "cell_type": "code",
      "metadata": {
        "id": "ClEFg6FUOsLk",
        "colab_type": "code",
        "outputId": "b660dbeb-7e25-4289-f094-cc96a0e259f6",
        "colab": {
          "base_uri": "https://localhost:8080/",
          "height": 296
        }
      },
      "source": [
        "sns.set_style('whitegrid')\n",
        "sns.countplot(x='gender',data=scores_condition)\n",
        "plt.xlabel(\"Sex for condition group(1 = female, 2 = male)\")\n"
      ],
      "execution_count": 0,
      "outputs": [
        {
          "output_type": "execute_result",
          "data": {
            "text/plain": [
              "Text(0.5, 0, 'Sex for condition group(1 = female, 2 = male)')"
            ]
          },
          "metadata": {
            "tags": []
          },
          "execution_count": 13
        },
        {
          "output_type": "display_data",
          "data": {
            "image/png": "[encoded data removed]",
            "text/plain": [
              "<Figure size 432x288 with 1 Axes>"
            ]
          },
          "metadata": {
            "tags": []
          }
        }
      ]
    },
    {
      "cell_type": "code",
      "metadata": {
        "id": "L3oZkV5HPpUA",
        "colab_type": "code",
        "outputId": "12b22317-e3c5-486b-d4e5-e792a8b27805",
        "colab": {
          "base_uri": "https://localhost:8080/",
          "height": 296
        }
      },
      "source": [
        "sns.set_style('whitegrid')\n",
        "sns.countplot(x='gender',data=scores_control)\n",
        "plt.xlabel(\"Sex for control group(1 = female, 2 = male)\")"
      ],
      "execution_count": 0,
      "outputs": [
        {
          "output_type": "execute_result",
          "data": {
            "text/plain": [
              "Text(0.5, 0, 'Sex for control group(1 = female, 2 = male)')"
            ]
          },
          "metadata": {
            "tags": []
          },
          "execution_count": 14
        },
        {
          "output_type": "display_data",
          "data": {
            "image/png": "[encoded data removed]",
            "text/plain": [
              "<Figure size 432x288 with 1 Axes>"
            ]
          },
          "metadata": {
            "tags": []
          }
        }
      ]
    },
    {
      "cell_type": "code",
      "metadata": {
        "id": "uK4xoJyHQ86_",
        "colab_type": "code",
        "outputId": "068edeb7-9e9c-426b-a8bb-a9ef9a51a134",
        "colab": {
          "base_uri": "https://localhost:8080/",
          "height": 242
        }
      },
      "source": [
        "sns.set_style('whitegrid')\n",
        "\n",
        "plt.figure(figsize=(5,3))\n",
        "\n",
        "sns.countplot(x='gender',data=scores_condition)\n",
        "\n",
        "sns.set_style('whitegrid')\n",
        "sns.countplot(x='gender',data=scores_control)\n",
        "plt.xlabel(\"Sex (1 = female, 2 = male)\")\n",
        "\n",
        "\n"
      ],
      "execution_count": 0,
      "outputs": [
        {
          "output_type": "execute_result",
          "data": {
            "text/plain": [
              "Text(0.5, 0, 'Sex (1 = female, 2 = male)')"
            ]
          },
          "metadata": {
            "tags": []
          },
          "execution_count": 15
        },
        {
          "output_type": "display_data",
          "data": {
            "image/png": "[encoded data removed]",
            "text/plain": [
              "<Figure size 360x216 with 1 Axes>"
            ]
          },
          "metadata": {
            "tags": []
          }
        }
      ]
    },
    {
      "cell_type": "code",
      "metadata": {
        "id": "TuDKF_T5RwPX",
        "colab_type": "code",
        "outputId": "ce1932cc-321f-43ed-adb1-74d96b8e0c1e",
        "colab": {
          "base_uri": "https://localhost:8080/",
          "height": 421
        }
      },
      "source": [
        "# Set figure size with matplotlib\n",
        "plt.figure(figsize=(10,6))\n",
        " \n",
        "# Create plot\n",
        "sns.countplot(x='gender', hue='gender',\n",
        "                \n",
        "               data=scores_condition, \n",
        "               \n",
        "              )\n",
        " \n",
        "sns.countplot(x='gender', hue='gender',\n",
        "              \n",
        "              data=scores_control, \n",
        "              color='k', # Make points black\n",
        "              alpha=0.7) # and slightly transparent\n",
        " \n",
        "# Set title with matplotlib\n",
        "plt.title('Mem')"
      ],
      "execution_count": 0,
      "outputs": [
        {
          "output_type": "execute_result",
          "data": {
            "text/plain": [
              "Text(0.5, 1.0, 'Mem')"
            ]
          },
          "metadata": {
            "tags": []
          },
          "execution_count": 16
        },
        {
          "output_type": "display_data",
          "data": {
            "image/png": "[encoded data removed]",
            "text/plain": [
              "<Figure size 720x432 with 1 Axes>"
            ]
          },
          "metadata": {
            "tags": []
          }
        }
      ]
    },
    {
      "cell_type": "code",
      "metadata": {
        "id": "jIlcmeQLbLfj",
        "colab_type": "code",
        "colab": {}
      },
      "source": [
        "condition_path = data_root_path + '/condition/condition_{}.csv' \n",
        "control_path = data_root_path + '/control/control_{}.csv'       \n",
        "\n",
        "condition_row_mike = [\n",
        "    np.array(pd.read_csv(condition_path.format(x))['activity'])\n",
        "    for x in range(1, 24) #Общий массив всех пациентов с активностью каждого человека. Т.е. Общий( пациент1[], пациент2[] ... пациент 23[])\n",
        "]\n",
        "control_row_mike = [\n",
        "    np.array(pd.read_csv(control_path.format(x))['activity'])\n",
        "    for x in range(1, 33) #Общий массив всех здоровых людей с активностью каждого человека. Т.е. Общий( здоровый1[], здоровый2[] ... здоровый 32[])\n",
        "]\n",
        "\n",
        "\n"
      ],
      "execution_count": 0,
      "outputs": []
    },
    {
      "cell_type": "code",
      "metadata": {
        "id": "tKE2vG3gdH-v",
        "colab_type": "code",
        "outputId": "567001f9-44a4-4bfb-b910-d2b86a6a0571",
        "colab": {
          "base_uri": "https://localhost:8080/",
          "height": 71
        }
      },
      "source": [
        "print(condition_row_mike)\n",
        "print(control_row_mike)"
      ],
      "execution_count": 0,
      "outputs": [
        {
          "output_type": "stream",
          "text": [
            "[array([  0, 143,   0, ...,   0,   0, 533]), array([1468, 1006,  468, ...,   13,    0,    0]), array([ 7,  8,  7, ..., 17,  7,  7]), array([510, 637, 598, ...,   0,   0,   0]), array([  0,   0,   0, ..., 390, 197,   0]), array([  0,   0,   0, ...,   0,   0, 666]), array([ 5,  3,  3, ...,  5, 80,  0]), array([  3, 190,   8, ...,   3,   3,   3]), array([  5,   5,   5, ..., 449,   0,   0]), array([ 91,   0,   0, ...,   0, 915,   0]), array([ 0, 53,  0, ...,  0, 15,  5]), array([ 0,  0,  0, ...,  0, 18,  6]), array([0, 0, 0, ..., 0, 0, 0]), array([0, 0, 0, ..., 6, 0, 0]), array([  0,   0,   0, ..., 172,   0,   0]), array([0, 3, 0, ..., 0, 0, 3]), array([0, 0, 0, ..., 0, 0, 0]), array([  0,   0,   0, ...,   2,   0, 326]), array([249,  69, 116, ...,   0,   0,   0]), array([ 97, 498, 249, ...,   0,   0, 451]), array([  0, 349, 111, ..., 154,   0,   0]), array([111,  66, 157, ...,   7,   0, 111]), array([161,  80, 175, ...,  48,   0,   0])]\n",
            "[array([ 60,   0, 264, ...,   3,   3,   0]), array([181,  76, 141, ...,   0,   0,   0]), array([0, 0, 0, ..., 0, 0, 0]), array([ 30,   0, 151, ...,   0,   0, 662]), array([0, 3, 3, ..., 3, 3, 5]), array([ 19,  97, 586, ...,   5,   5, 360]), array([125,  94,  64, ...,   3,   3,   3]), array([  4, 160,   3, ...,   0,   0,   0]), array([9, 7, 7, ..., 5, 5, 7]), array([ 30, 130,  70, ...,   0,   0,   0]), array([   5,    3,    3, ...,    0,    0, 1260]), array([3, 2, 0, ..., 2, 2, 0]), array([  3,   3,   3, ...,   0,   0, 917]), array([ 7,  5,  5, ..., 13,  7,  7]), array([  6,   4,   4, ...,   0,   0, 410]), array([ 12,  10,  10, ...,  14, 948,   0]), array([  3,   0,   0, ...,   0,   0, 166]), array([82,  0,  0, ...,  0, 38,  0]), array([4, 3, 3, ..., 0, 0, 0]), array([0, 0, 0, ..., 0, 0, 3]), array([  0,   0,   0, ..., 381,   0,   0]), array([ 7,  9,  9, ...,  7,  7, 41]), array([ 0,  0,  0, ...,  2, 22,  0]), array([0, 0, 0, ..., 0, 0, 0]), array([277, 160,   0, ...,   0,   0,   0]), array([313, 357,   0, ...,   0,   0, 640]), array([1221,  667,  469, ...,  689,  862, 1042]), array([  3,   0,   7, ..., 116, 369, 911]), array([ 219,  712, 1076, ...,  250,  306,   14]), array([   7,   79,    4, ...,  205, 2741, 2347]), array([321, 115, 240, ..., 178,   0,   0]), array([0, 0, 0, ..., 0, 0, 0])]\n"
          ],
          "name": "stdout"
        }
      ]
    },
    {
      "cell_type": "code",
      "metadata": {
        "id": "eoemCN5vgkFY",
        "colab_type": "code",
        "outputId": "3d412e29-0892-482f-db77-9e553577d944",
        "colab": {
          "base_uri": "https://localhost:8080/",
          "height": 51
        }
      },
      "source": [
        "#Подсчет среднего значения двигательной активности\n",
        "sum_cond = 0.0\n",
        "sum_control = 0.0\n",
        "\n",
        "for element in condition_row_mike:\n",
        "    sum_cond += np.mean(element)\n",
        "    \n",
        "for element in control_row_mike:\n",
        "    sum_control += np.mean(element)\n",
        "\n",
        "mean_cond = sum_cond / len(condition_row_mike)       \n",
        "mean_control_group = sum_control / len(control_row_mike)   \n",
        "\n",
        "\n",
        "print(\"Средняя активность у пациентов с депрессией: \", mean_cond)\n",
        "print(\"Средняя активность у здоровых людей: \", mean_control_group)\n"
      ],
      "execution_count": 0,
      "outputs": [
        {
          "output_type": "stream",
          "text": [
            "Средняя активность у пациентов с депрессией:  163.71934938375816\n",
            "Средняя активность у здоровых людей:  208.65312289017834\n"
          ],
          "name": "stdout"
        }
      ]
    },
    {
      "cell_type": "code",
      "metadata": {
        "id": "ONh6EF-Mu3i6",
        "colab_type": "code",
        "colab": {}
      },
      "source": [
        ""
      ],
      "execution_count": 0,
      "outputs": []
    },
    {
      "cell_type": "code",
      "metadata": {
        "id": "dWVdLpGzCZ1I",
        "colab_type": "code",
        "colab": {}
      },
      "source": [
        "#print(condition_raw[0]) #нужно выводить зависимости от времени, лучше двумерный массив"
      ],
      "execution_count": 0,
      "outputs": []
    },
    {
      "cell_type": "code",
      "metadata": {
        "id": "J5O9hvMqRHuc",
        "colab_type": "code",
        "outputId": "8671a65c-2664-445a-8cdb-69d45b2d05f0",
        "colab": {
          "base_uri": "https://localhost:8080/",
          "height": 799
        }
      },
      "source": [
        "condition1_activity = pd.read_csv(data_root_path + '/condition/condition_1.csv', nrows = 1442)\n",
        "g = sns.lineplot(data=condition1_activity, x = 'timestamp', y = 'activity')\n",
        "plt.xticks(rotation=90)\n",
        "g.set_xticks(g.get_xticks()[::60])"
      ],
      "execution_count": 0,
      "outputs": [
        {
          "output_type": "execute_result",
          "data": {
            "text/plain": [
              "[<matplotlib.axis.XTick at 0x7f6d804ba5f8>,\n",
              " <matplotlib.axis.XTick at 0x7f6d804ba588>,\n",
              " <matplotlib.axis.XTick at 0x7f6d80371320>,\n",
              " <matplotlib.axis.XTick at 0x7f6d80371da0>,\n",
              " <matplotlib.axis.XTick at 0x7f6d803582b0>,\n",
              " <matplotlib.axis.XTick at 0x7f6d80358710>,\n",
              " <matplotlib.axis.XTick at 0x7f6d80358ba8>,\n",
              " <matplotlib.axis.XTick at 0x7f6d803583c8>,\n",
              " <matplotlib.axis.XTick at 0x7f6d80358dd8>,\n",
              " <matplotlib.axis.XTick at 0x7f6d80358198>,\n",
              " <matplotlib.axis.XTick at 0x7f6d802bf7b8>,\n",
              " <matplotlib.axis.XTick at 0x7f6d802bfc50>,\n",
              " <matplotlib.axis.XTick at 0x7f6d802bf128>,\n",
              " <matplotlib.axis.XTick at 0x7f6d802e45c0>,\n",
              " <matplotlib.axis.XTick at 0x7f6d802e4a58>,\n",
              " <matplotlib.axis.XTick at 0x7f6d802e4ef0>,\n",
              " <matplotlib.axis.XTick at 0x7f6d802eb3c8>,\n",
              " <matplotlib.axis.XTick at 0x7f6d802eb860>,\n",
              " <matplotlib.axis.XTick at 0x7f6d802e4e10>,\n",
              " <matplotlib.axis.XTick at 0x7f6d802bf6d8>,\n",
              " <matplotlib.axis.XTick at 0x7f6d802eb908>,\n",
              " <matplotlib.axis.XTick at 0x7f6d802ebe80>,\n",
              " <matplotlib.axis.XTick at 0x7f6d802f5358>,\n",
              " <matplotlib.axis.XTick at 0x7f6d802f57f0>,\n",
              " <matplotlib.axis.XTick at 0x7f6d802f5c88>]"
            ]
          },
          "metadata": {
            "tags": []
          },
          "execution_count": 21
        },
        {
          "output_type": "display_data",
          "data": {
            "image/png": "[encoded data removed]",
            "text/plain": [
              "<Figure size 432x288 with 1 Axes>"
            ]
          },
          "metadata": {
            "tags": []
          }
        }
      ]
    },
    {
      "cell_type": "code",
      "metadata": {
        "id": "iQCp76d7YBvb",
        "colab_type": "code",
        "outputId": "a2d1a240-3956-47b3-defb-33c7838eaf9f",
        "colab": {
          "base_uri": "https://localhost:8080/",
          "height": 799
        }
      },
      "source": [
        "control1_activity = pd.read_csv(data_root_path + '/control/control_1.csv', skiprows=[i for i in range(1,1261)], nrows = 1442)\n",
        "g = sns.lineplot(data=control1_activity, x = 'timestamp', y = 'activity')\n",
        "plt.xticks(rotation=90)\n",
        "g.set_xticks(g.get_xticks()[::60])"
      ],
      "execution_count": 0,
      "outputs": [
        {
          "output_type": "execute_result",
          "data": {
            "text/plain": [
              "[<matplotlib.axis.XTick at 0x7f6d7f91dbe0>,\n",
              " <matplotlib.axis.XTick at 0x7f6d7f91dba8>,\n",
              " <matplotlib.axis.XTick at 0x7f6d7f8d8588>,\n",
              " <matplotlib.axis.XTick at 0x7f6d7f8d8550>,\n",
              " <matplotlib.axis.XTick at 0x7f6d7f8e3518>,\n",
              " <matplotlib.axis.XTick at 0x7f6d7f8e3860>,\n",
              " <matplotlib.axis.XTick at 0x7f6d7f8e3cf8>,\n",
              " <matplotlib.axis.XTick at 0x7f6d7f8e9208>,\n",
              " <matplotlib.axis.XTick at 0x7f6d7f8e9668>,\n",
              " <matplotlib.axis.XTick at 0x7f6d7f8e9b00>,\n",
              " <matplotlib.axis.XTick at 0x7f6d7f8e9f60>,\n",
              " <matplotlib.axis.XTick at 0x7f6d7f8a7470>,\n",
              " <matplotlib.axis.XTick at 0x7f6d7f8a7908>,\n",
              " <matplotlib.axis.XTick at 0x7f6d7f8a7da0>,\n",
              " <matplotlib.axis.XTick at 0x7f6d7f8a7a58>,\n",
              " <matplotlib.axis.XTick at 0x7f6d7f8a76a0>,\n",
              " <matplotlib.axis.XTick at 0x7f6d7f8e9d30>,\n",
              " <matplotlib.axis.XTick at 0x7f6d7f8af4a8>,\n",
              " <matplotlib.axis.XTick at 0x7f6d7f8af908>,\n",
              " <matplotlib.axis.XTick at 0x7f6d7f8afda0>,\n",
              " <matplotlib.axis.XTick at 0x7f6d7f8b82b0>,\n",
              " <matplotlib.axis.XTick at 0x7f6d7f8b8710>,\n",
              " <matplotlib.axis.XTick at 0x7f6d7f8b8ba8>,\n",
              " <matplotlib.axis.XTick at 0x7f6d7f8b83c8>,\n",
              " <matplotlib.axis.XTick at 0x7f6d7f8b8940>]"
            ]
          },
          "metadata": {
            "tags": []
          },
          "execution_count": 22
        },
        {
          "output_type": "display_data",
          "data": {
            "image/png": "[encoded data removed]",
            "text/plain": [
              "<Figure size 432x288 with 1 Axes>"
            ]
          },
          "metadata": {
            "tags": []
          }
        }
      ]
    },
    {
      "cell_type": "code",
      "metadata": {
        "id": "4wow8gzqa2j8",
        "colab_type": "code",
        "outputId": "445dc875-eef5-4a00-c8f7-518d0905e14f",
        "colab": {
          "base_uri": "https://localhost:8080/",
          "height": 34
        }
      },
      "source": [
        "#как парсить время\n",
        "\n",
        "str = '2003-03-19 11:47:00'\n",
        "mytime = datetime.strptime(str, \"%Y-%m-%d %H:%M:%S\").time()\n",
        "print(mytime.hour)\n",
        "\n",
        "#curr_hour = datetime.strptime(curr_str[0], \"%Y-%m-%d %H:%M:%S\").time().hour"
      ],
      "execution_count": 0,
      "outputs": [
        {
          "output_type": "stream",
          "text": [
            "11\n"
          ],
          "name": "stdout"
        }
      ]
    },
    {
      "cell_type": "code",
      "metadata": {
        "id": "_Iax4PDse_QV",
        "colab_type": "code",
        "colab": {}
      },
      "source": [
        "day_start = 4 \n",
        "day_end =  16\n",
        "night_start = 17\n",
        "night_end =  3"
      ],
      "execution_count": 0,
      "outputs": []
    },
    {
      "cell_type": "code",
      "metadata": {
        "id": "YjUxSAeVfDwy",
        "colab_type": "code",
        "outputId": "89427cb6-2178-4a5b-abb8-2d8980e4b01d",
        "colab": {
          "base_uri": "https://localhost:8080/",
          "height": 85
        }
      },
      "source": [
        "condition_path = data_root_path + '/condition/condition_{}.csv' \n",
        "control_path = data_root_path + '/control/control_{}.csv'    \n",
        "\n",
        "condition_row = [\n",
        "    np.array(pd.read_csv(condition_path.format(x)))\n",
        "    for x in range(1, 24) #Общий массив всех пациентов с активностью каждого человека.\n",
        "]\n",
        "\n",
        "\n",
        "control_row = [\n",
        "    np.array(pd.read_csv(control_path.format(x)))\n",
        "    for x in range(1, 33) #Общий массив всех здоровых людей с активностью каждого человека. \n",
        "]\n",
        "\n",
        "\n",
        "#Подсчет среднего значения двигательной активности для ночного и дневного времени для больных\n",
        "sum_night_cond = 0.0\n",
        "sum_day_cond = 0.0\n",
        "\n",
        "for i in range(len(condition_row)): #проходимся по всем файлам\n",
        "    curr_file = condition_row[i]\n",
        "    curr_file_sum_cond = 0\n",
        "    curr_sum_cond = 0\n",
        "    curr_count_cond = 0\n",
        "\n",
        "    curr_file_sum_cond_day = 0\n",
        "    curr_sum_cond_day = 0\n",
        "    curr_count_cond_day = 0\n",
        "\n",
        "    for j in range(len(curr_file)): #количество строк в файле\n",
        "      curr_str = curr_file[j]\n",
        "      curr_hour = datetime.strptime(curr_str[0], \"%Y-%m-%d %H:%M:%S\").time().hour\n",
        "      if (curr_hour >= night_start or curr_hour <= night_end):\n",
        "        curr_sum_cond += curr_str[2] \n",
        "        curr_count_cond += 1\n",
        "\n",
        "      if (day_start <= curr_hour <= day_end):\n",
        "        curr_sum_cond_day += curr_str[2] \n",
        "        curr_count_cond_day += 1\n",
        "\n",
        "    curr_file_sum_cond = curr_sum_cond / curr_count_cond\n",
        "    sum_night_cond += curr_file_sum_cond\n",
        "\n",
        "    curr_file_sum_cond_day = curr_sum_cond_day / curr_count_cond_day\n",
        "    sum_day_cond += curr_file_sum_cond_day\n",
        "\n",
        "#Подсчет среднего значения двигательной активности для ночного времени для здоровых\n",
        "sum_night_control = 0.0\n",
        "sum_day_control = 0.0\n",
        "\n",
        "for i in range(len(control_row)): #проходимся по всем файлам\n",
        "    curr_file = control_row[i]\n",
        "    curr_file_sum_cont = 0\n",
        "    curr_sum_cont = 0\n",
        "    curr_count_cont = 0\n",
        "\n",
        "    curr_file_sum_cont_day = 0\n",
        "    curr_sum_cont_day = 0\n",
        "    curr_count_cont_day = 0\n",
        "\n",
        "    for j in range(len(curr_file)): #количество строк в файле\n",
        "      curr_str = curr_file[j]\n",
        "      curr_hour = datetime.strptime(curr_str[0], \"%Y-%m-%d %H:%M:%S\").time().hour\n",
        "      if (curr_hour >= night_start or curr_hour <= night_end):\n",
        "        curr_sum_cont += curr_str[2] \n",
        "        curr_count_cont += 1\n",
        "      \n",
        "      if (day_start <= curr_hour <= day_end):\n",
        "        curr_sum_cont_day += curr_str[2] \n",
        "        curr_count_cont_day += 1\n",
        "\n",
        "    curr_file_sum_cont = curr_sum_cont / curr_count_cont\n",
        "    sum_night_control += curr_file_sum_cont\n",
        "\n",
        "    curr_file_sum_cont_day = curr_sum_cont_day / curr_count_cont_day\n",
        "    sum_day_control += curr_file_sum_cont_day\n",
        "\n",
        "mean_control = sum_night_control / len(control_row)   \n",
        "mean_cond = sum_night_cond / len(condition_row)\n",
        "\n",
        "mean_control_day = sum_day_control / len(control_row)   \n",
        "mean_cond_day = sum_day_cond / len(condition_row)\n",
        "\n",
        "print(\"Средняя активность у пациентов с депрессией в ночное время: \", mean_cond)\n",
        "print(\"Средняя активность у здоровых людей в ночное время: \", mean_control)\n",
        "\n",
        "print(\"Средняя активность у пациентов с депрессией в дневное время: \", mean_cond_day)\n",
        "print(\"Средняя активность у здоровых людей в дневное время: \", mean_control_day)\n"
      ],
      "execution_count": 0,
      "outputs": [
        {
          "output_type": "stream",
          "text": [
            "Средняя активность у пациентов с депрессией в ночное время:  146.88090105897174\n",
            "Средняя активность у здоровых людей в ночное время:  178.76436028836736\n",
            "Средняя активность у пациентов с депрессией в дневное время:  177.96555365180126\n",
            "Средняя активность у здоровых людей в дневное время:  233.69018589935487\n"
          ],
          "name": "stdout"
        }
      ]
    },
    {
      "cell_type": "code",
      "metadata": {
        "id": "8gL5Qdt0heDg",
        "colab_type": "code",
        "outputId": "383a4e9f-7b62-4da3-f765-e2825277e487",
        "colab": {
          "base_uri": "https://localhost:8080/",
          "height": 1000
        }
      },
      "source": [
        "disp = 0.0\n",
        "sum_otklonenie = 0.0\n",
        "\n",
        "for element in condition_row:\n",
        "    print(element)\n",
        "    print(mean_cond)\n",
        "    #otklonenie = (np.mean(element) - mean_cond)\n",
        "    #sum_otklonenie += otklonenie\n",
        "\n",
        "#disp = sum_otklonenie/len(condition_row) \n",
        "#print(disp)"
      ],
      "execution_count": 0,
      "outputs": [
        {
          "output_type": "stream",
          "text": [
            "[['2003-05-07 12:00:00' '2003-05-07' 0]\n",
            " ['2003-05-07 12:01:00' '2003-05-07' 143]\n",
            " ['2003-05-07 12:02:00' '2003-05-07' 0]\n",
            " ...\n",
            " ['2003-05-23 15:21:00' '2003-05-23' 0]\n",
            " ['2003-05-23 15:22:00' '2003-05-23' 0]\n",
            " ['2003-05-23 15:23:00' '2003-05-23' 533]]\n",
            "146.88090105897174\n",
            "[['2003-05-07 15:00:00' '2003-05-07' 1468]\n",
            " ['2003-05-07 15:01:00' '2003-05-07' 1006]\n",
            " ['2003-05-07 15:02:00' '2003-05-07' 468]\n",
            " ...\n",
            " ['2003-06-03 15:43:00' '2003-06-03' 13]\n",
            " ['2003-06-03 15:44:00' '2003-06-03' 0]\n",
            " ['2003-06-03 15:45:00' '2003-06-03' 0]]\n",
            "146.88090105897174\n",
            "[['2003-05-19 15:00:00' '2003-05-19' 7]\n",
            " ['2003-05-19 15:01:00' '2003-05-19' 8]\n",
            " ['2003-05-19 15:02:00' '2003-05-19' 7]\n",
            " ...\n",
            " ['2003-06-03 15:45:00' '2003-06-03' 17]\n",
            " ['2003-06-03 15:46:00' '2003-06-03' 7]\n",
            " ['2003-06-03 15:47:00' '2003-06-03' 7]]\n",
            "146.88090105897174\n",
            "[['2003-06-03 11:59:00' '2003-06-03' 510]\n",
            " ['2003-06-03 12:00:00' '2003-06-03' 637]\n",
            " ['2003-06-03 12:01:00' '2003-06-03' 598]\n",
            " ...\n",
            " ['2003-06-18 11:12:00' '2003-06-18' 0]\n",
            " ['2003-06-18 11:13:00' '2003-06-18' 0]\n",
            " ['2003-06-18 11:14:00' '2003-06-18' 0]]\n",
            "146.88090105897174\n",
            "[['2003-06-12 10:30:00' '2003-06-12' 0]\n",
            " ['2003-06-12 10:31:00' '2003-06-12' 0]\n",
            " ['2003-06-12 10:32:00' '2003-06-12' 0]\n",
            " ...\n",
            " ['2003-06-27 08:40:00' '2003-06-27' 390]\n",
            " ['2003-06-27 08:41:00' '2003-06-27' 197]\n",
            " ['2003-06-27 08:42:00' '2003-06-27' 0]]\n",
            "146.88090105897174\n",
            "[['2003-08-19 12:00:00' '2003-08-19' 0]\n",
            " ['2003-08-19 12:01:00' '2003-08-19' 0]\n",
            " ['2003-08-19 12:02:00' '2003-08-19' 0]\n",
            " ...\n",
            " ['2003-09-03 09:10:00' '2003-09-03' 0]\n",
            " ['2003-09-03 09:11:00' '2003-09-03' 0]\n",
            " ['2003-09-03 09:12:00' '2003-09-03' 666]]\n",
            "146.88090105897174\n",
            "[['2004-05-04 10:00:00' '2004-05-04' 5]\n",
            " ['2004-05-04 10:01:00' '2004-05-04' 3]\n",
            " ['2004-05-04 10:02:00' '2004-05-04' 3]\n",
            " ...\n",
            " ['2004-05-19 19:32:00' '2004-05-19' 5]\n",
            " ['2004-05-19 19:33:00' '2004-05-19' 80]\n",
            " ['2004-05-19 19:34:00' '2004-05-19' 0]]\n",
            "146.88090105897174\n",
            "[['2004-05-06 10:00:00' '2004-05-06' 3]\n",
            " ['2004-05-06 10:01:00' '2004-05-06' 190]\n",
            " ['2004-05-06 10:02:00' '2004-05-06' 8]\n",
            " ...\n",
            " ['2004-05-19 19:36:00' '2004-05-19' 3]\n",
            " ['2004-05-19 19:37:00' '2004-05-19' 3]\n",
            " ['2004-05-19 19:38:00' '2004-05-19' 3]]\n",
            "146.88090105897174\n",
            "[['2004-05-27 12:30:00' '2004-05-27' 5]\n",
            " ['2004-05-27 12:31:00' '2004-05-27' 5]\n",
            " ['2004-05-27 12:32:00' '2004-05-27' 5]\n",
            " ...\n",
            " ['2004-06-10 15:05:00' '2004-06-10' 449]\n",
            " ['2004-06-10 15:06:00' '2004-06-10' 0]\n",
            " ['2004-06-10 15:07:00' '2004-06-10' 0]]\n",
            "146.88090105897174\n",
            "[['2004-08-31 09:00:00' '2004-08-31' 91]\n",
            " ['2004-08-31 09:01:00' '2004-08-31' 0]\n",
            " ['2004-08-31 09:02:00' '2004-08-31' 0]\n",
            " ...\n",
            " ['2004-09-15 08:12:00' '2004-09-15' 0]\n",
            " ['2004-09-15 08:13:00' '2004-09-15' 915]\n",
            " ['2004-09-15 08:14:00' '2004-09-15' 0]]\n",
            "146.88090105897174\n",
            "[['2004-09-28 09:30:00' '2004-09-28' 0]\n",
            " ['2004-09-28 09:31:00' '2004-09-28' 53]\n",
            " ['2004-09-28 09:32:00' '2004-09-28' 0]\n",
            " ...\n",
            " ['2004-10-14 08:37:00' '2004-10-14' 0]\n",
            " ['2004-10-14 08:38:00' '2004-10-14' 15]\n",
            " ['2004-10-14 08:39:00' '2004-10-14' 5]]\n",
            "146.88090105897174\n",
            "[['2005-03-08 10:00:00' '2005-03-08' 0]\n",
            " ['2005-03-08 10:01:00' '2005-03-08' 0]\n",
            " ['2005-03-08 10:02:00' '2005-03-08' 0]\n",
            " ...\n",
            " ['2005-03-23 19:04:00' '2005-03-23' 0]\n",
            " ['2005-03-23 19:05:00' '2005-03-23' 18]\n",
            " ['2005-03-23 19:06:00' '2005-03-23' 6]]\n",
            "146.88090105897174\n",
            "[['2005-08-11 09:00:00' '2005-08-11' 0]\n",
            " ['2005-08-11 09:01:00' '2005-08-11' 0]\n",
            " ['2005-08-11 09:02:00' '2005-08-11' 0]\n",
            " ...\n",
            " ['2005-08-29 08:47:00' '2005-08-29' 0]\n",
            " ['2005-08-29 08:48:00' '2005-08-29' 0]\n",
            " ['2005-08-29 08:49:00' '2005-08-29' 0]]\n",
            "146.88090105897174\n",
            "[['2005-08-18 10:30:00' '2005-08-18' 0]\n",
            " ['2005-08-18 10:31:00' '2005-08-18' 0]\n",
            " ['2005-08-18 10:32:00' '2005-08-18' 0]\n",
            " ...\n",
            " ['2005-09-02 11:13:00' '2005-09-02' 6]\n",
            " ['2005-09-02 11:14:00' '2005-09-02' 0]\n",
            " ['2005-09-02 11:15:00' '2005-09-02' 0]]\n",
            "146.88090105897174\n",
            "[['2005-08-30 10:00:00' '2005-08-30' 0]\n",
            " ['2005-08-30 10:01:00' '2005-08-30' 0]\n",
            " ['2005-08-30 10:02:00' '2005-08-30' 0]\n",
            " ...\n",
            " ['2005-09-14 13:46:00' '2005-09-14' 172]\n",
            " ['2005-09-14 13:47:00' '2005-09-14' 0]\n",
            " ['2005-09-14 13:48:00' '2005-09-14' 0]]\n",
            "146.88090105897174\n",
            "[['2005-09-22 10:00:00' '2005-09-22' 0]\n",
            " ['2005-09-22 10:01:00' '2005-09-22' 3]\n",
            " ['2005-09-22 10:02:00' '2005-09-22' 0]\n",
            " ...\n",
            " ['2005-10-21 11:24:00' '2005-10-21' 0]\n",
            " ['2005-10-21 11:25:00' '2005-10-21' 0]\n",
            " ['2005-10-21 11:26:00' '2005-10-21' 3]]\n",
            "146.88090105897174\n",
            "[['2005-11-08 09:30:00' '2005-11-08' 0]\n",
            " ['2005-11-08 09:31:00' '2005-11-08' 0]\n",
            " ['2005-11-08 09:32:00' '2005-11-08' 0]\n",
            " ...\n",
            " ['2005-11-23 08:18:00' '2005-11-23' 0]\n",
            " ['2005-11-23 08:19:00' '2005-11-23' 0]\n",
            " ['2005-11-23 08:20:00' '2005-11-23' 0]]\n",
            "146.88090105897174\n",
            "[['2005-11-08 12:30:00' '2005-11-08' 0]\n",
            " ['2005-11-08 12:31:00' '2005-11-08' 0]\n",
            " ['2005-11-08 12:32:00' '2005-11-08' 0]\n",
            " ...\n",
            " ['2005-11-23 08:14:00' '2005-11-23' 2]\n",
            " ['2005-11-23 08:15:00' '2005-11-23' 0]\n",
            " ['2005-11-23 08:16:00' '2005-11-23' 326]]\n",
            "146.88090105897174\n",
            "[['2002-08-29 14:30:00' '2002-08-29' 249]\n",
            " ['2002-08-29 14:31:00' '2002-08-29' 69]\n",
            " ['2002-08-29 14:32:00' '2002-08-29' 116]\n",
            " ...\n",
            " ['2002-09-13 08:18:00' '2002-09-13' 0]\n",
            " ['2002-09-13 08:19:00' '2002-09-13' 0]\n",
            " ['2002-09-13 08:20:00' '2002-09-13' 0]]\n",
            "146.88090105897174\n",
            "[['2002-05-24 11:30:00' '2002-05-24' 97]\n",
            " ['2002-05-24 11:31:00' '2002-05-24' 498]\n",
            " ['2002-05-24 11:32:00' '2002-05-24' 249]\n",
            " ...\n",
            " ['2002-06-11 10:14:00' '2002-06-11' 0]\n",
            " ['2002-06-11 10:15:00' '2002-06-11' 0]\n",
            " ['2002-06-11 10:16:00' '2002-06-11' 451]]\n",
            "146.88090105897174\n",
            "[['2002-06-13 13:35:00' '2002-06-13' 0]\n",
            " ['2002-06-13 13:36:00' '2002-06-13' 349]\n",
            " ['2002-06-13 13:37:00' '2002-06-13' 111]\n",
            " ...\n",
            " ['2002-06-27 18:59:00' '2002-06-27' 154]\n",
            " ['2002-06-27 19:00:00' '2002-06-27' 0]\n",
            " ['2002-06-27 19:01:00' '2002-06-27' 0]]\n",
            "146.88090105897174\n",
            "[['2002-11-05 10:45:00' '2002-11-05' 111]\n",
            " ['2002-11-05 10:46:00' '2002-11-05' 66]\n",
            " ['2002-11-05 10:47:00' '2002-11-05' 157]\n",
            " ...\n",
            " ['2002-11-20 13:34:00' '2002-11-20' 7]\n",
            " ['2002-11-20 13:35:00' '2002-11-20' 0]\n",
            " ['2002-11-20 13:36:00' '2002-11-20' 111]]\n",
            "146.88090105897174\n",
            "[['2002-06-06 13:00:00' '2002-06-06' 161]\n",
            " ['2002-06-06 13:01:00' '2002-06-06' 80]\n",
            " ['2002-06-06 13:02:00' '2002-06-06' 175]\n",
            " ...\n",
            " ['2002-06-28 09:42:00' '2002-06-28' 48]\n",
            " ['2002-06-28 09:43:00' '2002-06-28' 0]\n",
            " ['2002-06-28 09:44:00' '2002-06-28' 0]]\n",
            "146.88090105897174\n"
          ],
          "name": "stdout"
        }
      ]
    },
    {
      "cell_type": "code",
      "metadata": {
        "id": "Tl4C1dSRNJUf",
        "colab_type": "code",
        "outputId": "34638a7a-e450-49e2-9ecf-aef711afa47d",
        "colab": {
          "base_uri": "https://localhost:8080/",
          "height": 723
        }
      },
      "source": [
        "#создаем новые csv-файлы, где будут хранится средние значения активности за каждый час\n",
        "\n",
        "data_root_path = 'drive/My Drive/3 курс/data' \n",
        "\n",
        "#для людей с депрессией\n",
        "with open('mean_condition.csv', 'w') as csvfile:\n",
        "    filewriter = csv.writer(csvfile, delimiter=',',\n",
        "                            quotechar='|', quoting=csv.QUOTE_MINIMAL)\n",
        "    filewriter.writerow(['hour', 'activity'])\n",
        "        \n",
        "    condition_path = data_root_path + '/condition/condition_{}.csv'   \n",
        "\n",
        "    condition_row = [\n",
        "        np.array(pd.read_csv(condition_path.format(x)))\n",
        "        for x in range(1, 24) #Общий массив всех пациентов с активностью каждого человека.\n",
        "    ]\n",
        "\n",
        "    mean_hour = np.zeros(24)\n",
        "    mean_hour_count = np.zeros(24)\n",
        "\n",
        "    for i in range(len(condition_row)): #проходимся по всем файлам\n",
        "        curr_file = condition_row[i]\n",
        "        \n",
        "        for j in range(len(curr_file)): #количество строк в файле\n",
        "          curr_str = curr_file[j]\n",
        "          curr_hour = datetime.strptime(curr_str[0], \"%Y-%m-%d %H:%M:%S\").time().hour\n",
        "          \n",
        "          mean_hour[curr_hour] += curr_str[2]\n",
        "          mean_hour_count[curr_hour] += 1\n",
        "\n",
        "    mean_hour = mean_hour/mean_hour_count\n",
        "    \n",
        "    #добавляем данные о средних значениях в csv-файл\n",
        "    for i in range(len(mean_hour)):\n",
        "      filewriter.writerow([i, mean_hour[i]])\n",
        "\n",
        "#выводим график\n",
        "mean_condition = pd.read_csv('mean_condition.csv')\n",
        "g1 = sns.lineplot(data=mean_condition, x = 'hour', y = 'activity', marker=\"o\")\n",
        "g1.set_title('Зависимость активности от времени для людей с депрессией')\n",
        "plt.xticks(rotation=90)\n",
        "plt.xticks(range(24))\n",
        "\n"
      ],
      "execution_count": 0,
      "outputs": [
        {
          "output_type": "execute_result",
          "data": {
            "text/plain": [
              "([<matplotlib.axis.XTick at 0x7f6d7c6101d0>,\n",
              "  <matplotlib.axis.XTick at 0x7f6d7c610198>,\n",
              "  <matplotlib.axis.XTick at 0x7f6d74b01b38>,\n",
              "  <matplotlib.axis.XTick at 0x7f6d74b0b5c0>,\n",
              "  <matplotlib.axis.XTick at 0x7f6d74b0bb38>,\n",
              "  <matplotlib.axis.XTick at 0x7f6d74b0be80>,\n",
              "  <matplotlib.axis.XTick at 0x7f6d74b01e48>,\n",
              "  <matplotlib.axis.XTick at 0x7f6d7edeeda0>,\n",
              "  <matplotlib.axis.XTick at 0x7f6d74b180f0>,\n",
              "  <matplotlib.axis.XTick at 0x7f6d74b18978>,\n",
              "  <matplotlib.axis.XTick at 0x7f6d74b13898>,\n",
              "  <matplotlib.axis.XTick at 0x7f6d74b0fa20>,\n",
              "  <matplotlib.axis.XTick at 0x7f6d74b01ac8>,\n",
              "  <matplotlib.axis.XTick at 0x7f6d74b18710>,\n",
              "  <matplotlib.axis.XTick at 0x7f6d74b18f60>,\n",
              "  <matplotlib.axis.XTick at 0x7f6d74b1d438>,\n",
              "  <matplotlib.axis.XTick at 0x7f6d74b1d8d0>,\n",
              "  <matplotlib.axis.XTick at 0x7f6d74b1dd68>,\n",
              "  <matplotlib.axis.XTick at 0x7f6d74b23278>,\n",
              "  <matplotlib.axis.XTick at 0x7f6d74b236d8>,\n",
              "  <matplotlib.axis.XTick at 0x7f6d74b1d9b0>,\n",
              "  <matplotlib.axis.XTick at 0x7f6d74b184e0>,\n",
              "  <matplotlib.axis.XTick at 0x7f6d74b1d5c0>,\n",
              "  <matplotlib.axis.XTick at 0x7f6d74b232e8>],\n",
              " <a list of 24 Text major ticklabel objects>)"
            ]
          },
          "metadata": {
            "tags": []
          },
          "execution_count": 27
        },
        {
          "output_type": "display_data",
          "data": {
            "image/png": "[encoded data removed]",
            "text/plain": [
              "<Figure size 432x288 with 1 Axes>"
            ]
          },
          "metadata": {
            "tags": []
          }
        }
      ]
    },
    {
      "cell_type": "code",
      "metadata": {
        "id": "pLvqG__ecs-B",
        "colab_type": "code",
        "outputId": "0ddf0cdd-3223-4b8b-8e2b-d00cb6484e0c",
        "colab": {
          "base_uri": "https://localhost:8080/",
          "height": 723
        }
      },
      "source": [
        "#для здоровых людей\n",
        "with open('mean_control.csv', 'w') as csvfile:\n",
        "    filewriter = csv.writer(csvfile, delimiter=',',\n",
        "                            quotechar='|', quoting=csv.QUOTE_MINIMAL)\n",
        "    filewriter.writerow(['hour', 'activity'])\n",
        "        \n",
        "    control_path = data_root_path + '/control/control_{}.csv'    \n",
        "\n",
        "    control_row = [\n",
        "    np.array(pd.read_csv(control_path.format(x)))\n",
        "    for x in range(1, 33) #Общий массив всех здоровых людей с активностью каждого человека. \n",
        "    ]\n",
        "\n",
        "    mean_hour = np.zeros(24)\n",
        "    mean_hour_count = np.zeros(24)\n",
        "\n",
        "    for i in range(len(control_row)): #проходимся по всем файлам\n",
        "        curr_file = control_row[i]\n",
        "        \n",
        "        for j in range(len(curr_file)): #количество строк в файле\n",
        "          curr_str = curr_file[j]\n",
        "          curr_hour = datetime.strptime(curr_str[0], \"%Y-%m-%d %H:%M:%S\").time().hour\n",
        "          \n",
        "          mean_hour[curr_hour] += curr_str[2]\n",
        "          mean_hour_count[curr_hour] += 1\n",
        "\n",
        "    mean_hour = mean_hour/mean_hour_count\n",
        "\n",
        "    #добавляем данные о средних значениях в csv-файл\n",
        "    for i in range(len(mean_hour)):\n",
        "      filewriter.writerow([i, mean_hour[i]])\n",
        "\n",
        "#выводим график\n",
        "mean_control = pd.read_csv('mean_control.csv')\n",
        "g2 = sns.lineplot(data=mean_control, x = 'hour', y = 'activity', marker=\"o\")\n",
        "g2.set_title('Зависимость активности от времени для людей без депрессии')\n",
        "plt.xticks(rotation=90)\n",
        "plt.xticks(range(24))"
      ],
      "execution_count": 0,
      "outputs": [
        {
          "output_type": "execute_result",
          "data": {
            "text/plain": [
              "([<matplotlib.axis.XTick at 0x7f6d7edd5b38>,\n",
              "  <matplotlib.axis.XTick at 0x7f6d7edd5b70>,\n",
              "  <matplotlib.axis.XTick at 0x7f6d7c959b00>,\n",
              "  <matplotlib.axis.XTick at 0x7f6d7edd4ba8>,\n",
              "  <matplotlib.axis.XTick at 0x7f6d7edc6f60>,\n",
              "  <matplotlib.axis.XTick at 0x7f6d7edc6588>,\n",
              "  <matplotlib.axis.XTick at 0x7f6d74b2e940>,\n",
              "  <matplotlib.axis.XTick at 0x7f6d7edd5588>,\n",
              "  <matplotlib.axis.XTick at 0x7f6d7edd4978>,\n",
              "  <matplotlib.axis.XTick at 0x7f6d7c955d68>,\n",
              "  <matplotlib.axis.XTick at 0x7f6d7c9556d8>,\n",
              "  <matplotlib.axis.XTick at 0x7f6d7c9555f8>,\n",
              "  <matplotlib.axis.XTick at 0x7f6d7c93f4e0>,\n",
              "  <matplotlib.axis.XTick at 0x7f6d7c93fb70>,\n",
              "  <matplotlib.axis.XTick at 0x7f6d7c93f320>,\n",
              "  <matplotlib.axis.XTick at 0x7f6d7c3ac518>,\n",
              "  <matplotlib.axis.XTick at 0x7f6d7c93f630>,\n",
              "  <matplotlib.axis.XTick at 0x7f6d7c955dd8>,\n",
              "  <matplotlib.axis.XTick at 0x7f6d7edc6198>,\n",
              "  <matplotlib.axis.XTick at 0x7f6d7c3ac7b8>,\n",
              "  <matplotlib.axis.XTick at 0x7f6d7c3acc50>,\n",
              "  <matplotlib.axis.XTick at 0x7f6d7c3ac9b0>,\n",
              "  <matplotlib.axis.XTick at 0x7f6d7c3a75c0>,\n",
              "  <matplotlib.axis.XTick at 0x7f6d7c3a7ac8>],\n",
              " <a list of 24 Text major ticklabel objects>)"
            ]
          },
          "metadata": {
            "tags": []
          },
          "execution_count": 28
        },
        {
          "output_type": "display_data",
          "data": {
            "image/png": "[encoded data removed]",
            "text/plain": [
              "<Figure size 432x288 with 1 Axes>"
            ]
          },
          "metadata": {
            "tags": []
          }
        }
      ]
    },
    {
      "cell_type": "code",
      "metadata": {
        "id": "piidg8PYhvw9",
        "colab_type": "code",
        "outputId": "30bc2394-b38a-4c2d-a4ab-5ba28f6e4a0f",
        "colab": {
          "base_uri": "https://localhost:8080/",
          "height": 624
        }
      },
      "source": [
        "fig, ax = plt.subplots(figsize=(13,10))\n",
        "\n",
        "g = sns.lineplot(data=mean_condition, x = 'hour', y = 'activity', marker=\"o\", color = 'r', ax=ax)\n",
        "sns.lineplot(data=mean_control, x = 'hour', y = 'activity', marker=\"o\", color = 'b', ax=ax)\n",
        "\n",
        "plt.xticks(rotation=90)\n",
        "plt.xticks(range(24))\n",
        "g.set_title('Зависимость активности от времени')\n",
        " \n",
        "ax.legend(['condition group', 'control group'], facecolor='w')\n",
        "plt.show()"
      ],
      "execution_count": 0,
      "outputs": [
        {
          "output_type": "display_data",
          "data": {
            "image/png": "[encoded data removed]",
            "text/plain": [
              "<Figure size 936x720 with 1 Axes>"
            ]
          },
          "metadata": {
            "tags": []
          }
        }
      ]
    },
    {
      "cell_type": "code",
      "metadata": {
        "id": "rmlXj5KxN7Sp",
        "colab_type": "code",
        "outputId": "7a42f852-d171-4955-d82e-016b8c7d63db",
        "colab": {
          "base_uri": "https://localhost:8080/",
          "height": 51
        }
      },
      "source": [
        "#дисперсия для здоровых людей\n",
        "total_ctrl = 0\n",
        "\n",
        "for i in range(len(control_row)): #проходимся по всем файлам\n",
        "      curr_file = control_row[i]\n",
        "      person_sum = 0\n",
        "      curr_mean = 0\n",
        "      new_arr = np.zeros(len(curr_file)) #массив показателей активности\n",
        "      for j in range(len(curr_file)): #количество строк в файле\n",
        "        curr_str = curr_file[j]    \n",
        "        new_arr[j] = curr_str[2]\n",
        "      person_disp = np.var(new_arr) #считаем дисперсию для числового ряда\n",
        "      total_ctrl += person_disp\n",
        "total_ctrl /= len(control_row)\n",
        "\n",
        "print('Средняя дисперсия для здоровых людей:',total_ctrl)\n",
        "\n",
        "#дисперсия для людей с депрессией\n",
        "\n",
        "total_cnd = 0\n",
        "\n",
        "for i in range(len(condition_row)): #проходимся по всем файлам\n",
        "      curr_file = condition_row[i]\n",
        "      person_sum = 0\n",
        "      curr_mean = 0\n",
        "      new_arr = np.zeros(len(curr_file)) #массив показателей активности\n",
        "      for j in range(len(curr_file)): #количество строк в файле\n",
        "        curr_str = curr_file[j]    \n",
        "        new_arr[j] = curr_str[2]\n",
        "      person_disp = np.var(new_arr) #считаем дисперсию для числового ряда\n",
        "      total_cnd += person_disp\n",
        "total_cnd /= len(condition_row)\n",
        "\n",
        "print('Средняя дисперсия для людей с депрессией:',total_cnd)"
      ],
      "execution_count": 0,
      "outputs": [
        {
          "output_type": "stream",
          "text": [
            "Средняя дисперсия для здоровых людей: 145532.9967695738\n",
            "Средняя дисперсия для людей с депрессией: 98234.38130241663\n"
          ],
          "name": "stdout"
        }
      ]
    },
    {
      "cell_type": "code",
      "metadata": {
        "id": "V3kt5CnmI4pw",
        "colab_type": "code",
        "outputId": "c1e3e0d1-6292-41de-92d9-0fa15aab53ae",
        "colab": {
          "base_uri": "https://localhost:8080/",
          "height": 609
        }
      },
      "source": [
        "sigma_ctrl = math.sqrt(total_ctrl)\n",
        "sigma_cnd = math.sqrt(total_cnd)\n",
        "\n",
        "sigma3_ctrl = math.sqrt(total_ctrl) * 3\n",
        "sigma3_cnd = math.sqrt(total_cnd) * 3\n",
        "\n",
        "lower_cond = mean_cond - sigma3_cnd #Доверительный интвервал для condition (верхняя и нижняя границы)   \n",
        "upper_cond = mean_cond + sigma3_cnd\n",
        "\n",
        "lower_ctrl = mean_control_group - sigma3_ctrl #Доверительный интвервал для control (верхняя и нижняя границы)\n",
        "upper_ctrl = mean_control_group + sigma3_ctrl\n",
        "\n",
        "data1 = [lower_cond , upper_cond]\n",
        "data2 = [lower_ctrl, upper_ctrl]\n",
        "data = [data1, data2]\n",
        "fig, ax = plt.subplots(figsize=(5,10))\n",
        "box_dict = ax.boxplot(data)\n",
        "\n",
        "print(\" +-3sigma у больных и здоровых \")"
      ],
      "execution_count": 0,
      "outputs": [
        {
          "output_type": "stream",
          "text": [
            " +-3sigma у больных и здоровых \n"
          ],
          "name": "stdout"
        },
        {
          "output_type": "display_data",
          "data": {
            "image/png": "[encoded data removed]",
            "text/plain": [
              "<Figure size 360x720 with 1 Axes>"
            ]
          },
          "metadata": {
            "tags": []
          }
        }
      ]
    },
    {
      "cell_type": "code",
      "metadata": {
        "id": "8ok3g6j2XK-U",
        "colab_type": "code",
        "colab": {}
      },
      "source": [
        "pip freeze > requirements.txt"
      ],
      "execution_count": 0,
      "outputs": []
    }
  ]
}
